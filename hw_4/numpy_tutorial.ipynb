{
 "cells": [],
 "metadata": {
  "interpreter": {
   "hash": "8a5bde8bbf9a2b3725af747418110978d9793cb7aac6c4d7c0e6862aec364817"
  },
  "kernelspec": {
   "display_name": "Python 3.9.1 64-bit ('notebook': venv)",
   "name": "python3"
  },
  "language_info": {
   "name": "python",
   "version": "3.9.1"
  },
  "orig_nbformat": 4
 },
 "nbformat": 4,
 "nbformat_minor": 2
}
