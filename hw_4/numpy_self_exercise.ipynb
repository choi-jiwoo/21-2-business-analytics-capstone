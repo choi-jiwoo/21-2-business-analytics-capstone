{
 "cells": [
  {
   "cell_type": "markdown",
   "metadata": {},
   "source": [
    "# Numpy exercise"
   ]
  },
  {
   "cell_type": "code",
   "execution_count": 2,
   "metadata": {},
   "outputs": [],
   "source": [
    "import numpy as np"
   ]
  },
  {
   "cell_type": "markdown",
   "metadata": {},
   "source": [
    "### 1. 0이 10개 포함된 벡터"
   ]
  },
  {
   "cell_type": "code",
   "execution_count": 3,
   "metadata": {},
   "outputs": [
    {
     "name": "stdout",
     "output_type": "stream",
     "text": [
      "shape: (10,)\n",
      "ex_one = [0. 0. 0. 0. 0. 0. 0. 0. 0. 0.]\n"
     ]
    }
   ],
   "source": [
    "ex_one = np.zeros(10)\n",
    "print(f'shape: {ex_one.shape}')\n",
    "print(f'ex_one = {ex_one}')"
   ]
  },
  {
   "cell_type": "markdown",
   "metadata": {},
   "source": [
    "### 2. 1~9 까지 벡터"
   ]
  },
  {
   "cell_type": "code",
   "execution_count": 4,
   "metadata": {},
   "outputs": [
    {
     "name": "stdout",
     "output_type": "stream",
     "text": [
      "shape: (9,)\n",
      "ex_two = [1 2 3 4 5 6 7 8 9]\n"
     ]
    }
   ],
   "source": [
    "ex_two = np.arange(1,10)\n",
    "print(f'shape: {ex_two.shape}')\n",
    "print(f'ex_two = {ex_two}')"
   ]
  },
  {
   "cell_type": "markdown",
   "metadata": {},
   "source": [
    "### 3. 0~9까지 벡터 생성 후 거꾸로 뒤집기"
   ]
  },
  {
   "cell_type": "code",
   "execution_count": 5,
   "metadata": {},
   "outputs": [
    {
     "name": "stdout",
     "output_type": "stream",
     "text": [
      "shape: (10,)\n",
      "ex_three = [9 8 7 6 5 4 3 2 1 0]\n"
     ]
    }
   ],
   "source": [
    "ex_three = np.arange(10)\n",
    "ex_three = ex_three[::-1]\n",
    "print(f'shape: {ex_three.shape}')\n",
    "print(f'ex_three = {ex_three}')"
   ]
  },
  {
   "cell_type": "markdown",
   "metadata": {},
   "source": [
    "### 4. 리스트에서 3x3 행렬 생성\n",
    "\n",
    "$$\n",
    "\\begin{bmatrix}\n",
    "0 & 1 & 2\\\\\n",
    "3 & 4 & 5\\\\\n",
    "6 & 7 & 8\n",
    "\\end{bmatrix}\n",
    "$$"
   ]
  },
  {
   "cell_type": "code",
   "execution_count": 6,
   "metadata": {},
   "outputs": [
    {
     "name": "stdout",
     "output_type": "stream",
     "text": [
      "shape: (3, 3)\n",
      "ex_four = \n",
      "[[0 1 2]\n",
      " [3 4 5]\n",
      " [6 7 8]]\n"
     ]
    }
   ],
   "source": [
    "ex_four = np.arange(9).reshape(3, 3)\n",
    "print(f'shape: {ex_four.shape}')\n",
    "print(f'ex_four = \\n{ex_four}')"
   ]
  },
  {
   "cell_type": "markdown",
   "metadata": {},
   "source": [
    "### 5. 항등행렬 (Identity matrix)\n",
    "\n",
    "$$\n",
    "\\begin{bmatrix}\n",
    "1 & 0 & 0\\\\\n",
    "0 & 1 & 0\\\\\n",
    "0 & 0 & 1\n",
    "\\end{bmatrix}\n",
    "$$"
   ]
  },
  {
   "cell_type": "code",
   "execution_count": 7,
   "metadata": {},
   "outputs": [
    {
     "name": "stdout",
     "output_type": "stream",
     "text": [
      "shape: (3, 3)\n",
      "ex_five = \n",
      "[[1. 0. 0.]\n",
      " [0. 1. 0.]\n",
      " [0. 0. 1.]]\n"
     ]
    }
   ],
   "source": [
    "ex_five = np.eye(3)\n",
    "print(f'shape: {ex_five.shape}')\n",
    "print(f'ex_five = \\n{ex_five}')"
   ]
  },
  {
   "cell_type": "markdown",
   "metadata": {},
   "source": [
    "### 6. 3x3 행렬의 성분을 난수로 채우기\n",
    "\n",
    "$$\n",
    "\\begin{bmatrix}\n",
    "0.42 & 0.72 & 0.00\\\\\n",
    "0.3 & 0.15 & 0.09\\\\\n",
    "0.19 & 0.35 & 0.4\n",
    "\\end{bmatrix}\n",
    "$$"
   ]
  },
  {
   "cell_type": "code",
   "execution_count": 8,
   "metadata": {},
   "outputs": [
    {
     "name": "stdout",
     "output_type": "stream",
     "text": [
      "shape: (3, 3)\n",
      "ex_six = \n",
      "[[0.42 0.72 0.  ]\n",
      " [0.3  0.15 0.09]\n",
      " [0.19 0.35 0.4 ]]\n"
     ]
    }
   ],
   "source": [
    "np.random.seed(1)\n",
    "ex_six = np.random.random((3, 3))\n",
    "ex_six = ex_six.round(2)\n",
    "print(f'shape: {ex_six.shape}')\n",
    "print(f'ex_six = \\n{ex_six}')"
   ]
  },
  {
   "cell_type": "markdown",
   "metadata": {},
   "source": [
    "### 7. 행렬의 성분이 모두 1인 3x3 행렬\n",
    "\n",
    "$$\n",
    "\\begin{bmatrix}\n",
    "1 & 1 & 1\\\\\n",
    "1 & 1 & 1\\\\\n",
    "1 & 1 & 1\n",
    "\\end{bmatrix}\n",
    "$$"
   ]
  },
  {
   "cell_type": "code",
   "execution_count": 9,
   "metadata": {},
   "outputs": [
    {
     "name": "stdout",
     "output_type": "stream",
     "text": [
      "shape: (3, 3)\n",
      "ex_seven = \n",
      "[[1. 1. 1.]\n",
      " [1. 1. 1.]\n",
      " [1. 1. 1.]]\n"
     ]
    }
   ],
   "source": [
    "ex_seven = np.ones((3, 3))\n",
    "print(f'shape: {ex_seven.shape}')\n",
    "print(f'ex_seven = \\n{ex_seven}')"
   ]
  },
  {
   "cell_type": "markdown",
   "metadata": {},
   "source": [
    "### 8. 행렬의 연산 - 전치행렬\n",
    "\n",
    "$$\n",
    "\\begin{bmatrix}\n",
    "0 & 1 & 2\\\\\n",
    "3 & 4 & 5\\\\\n",
    "6 & 7 & 8\n",
    "\\end{bmatrix}^\\mathsf{T}\n",
    "=\n",
    "\\begin{bmatrix}\n",
    "0 & 3 & 6\\\\\n",
    "1 & 4 & 7\\\\\n",
    "2 & 5 & 8\n",
    "\\end{bmatrix}\n",
    "$$"
   ]
  },
  {
   "cell_type": "code",
   "execution_count": 10,
   "metadata": {},
   "outputs": [
    {
     "name": "stdout",
     "output_type": "stream",
     "text": [
      "shape: (3, 3)\n",
      "before transpose:\n",
      "[[0 1 2]\n",
      " [3 4 5]\n",
      " [6 7 8]]\n",
      "after transpose:\n",
      "[[0 3 6]\n",
      " [1 4 7]\n",
      " [2 5 8]]\n"
     ]
    }
   ],
   "source": [
    "ex_eight = np.transpose(ex_four)\n",
    "print(f'shape: {ex_eight.shape}')\n",
    "print(f'before transpose:\\n{ex_four}')\n",
    "print(f'after transpose:\\n{ex_eight}')"
   ]
  },
  {
   "cell_type": "markdown",
   "metadata": {},
   "source": [
    "### 9. 행렬의 연산 - 행렬 곱셈 (Matrix Multiplication)\n",
    "\n",
    "$$\n",
    "\\begin{bmatrix}\n",
    "0 & 1 & 2\\\\\n",
    "3 & 4 & 5\\\\\n",
    "6 & 7 & 8\n",
    "\\end{bmatrix}\n",
    "\\times\n",
    "\\begin{bmatrix}\n",
    "0 & 3 & 6\\\\\n",
    "1 & 4 & 7\\\\\n",
    "2 & 5 & 8\n",
    "\\end{bmatrix}\n",
    "=\n",
    "\\begin{bmatrix}\n",
    "5 & 14 & 23\\\\\n",
    "14 & 50 & 86\\\\\n",
    "23 & 86 & 149\n",
    "\\end{bmatrix}\n",
    "$$"
   ]
  },
  {
   "cell_type": "code",
   "execution_count": 11,
   "metadata": {},
   "outputs": [
    {
     "name": "stdout",
     "output_type": "stream",
     "text": [
      "A = \n",
      "[[0 1 2]\n",
      " [3 4 5]\n",
      " [6 7 8]]\n",
      "B = \n",
      "[[0 3 6]\n",
      " [1 4 7]\n",
      " [2 5 8]]\n",
      "AxB = \n",
      "[[  5  14  23]\n",
      " [ 14  50  86]\n",
      " [ 23  86 149]]\n"
     ]
    }
   ],
   "source": [
    "ex_nine = ex_four.dot(ex_eight)\n",
    "print(f'A = \\n{ex_four}')\n",
    "print(f'B = \\n{ex_eight}')\n",
    "print(f'AxB = \\n{ex_nine}')"
   ]
  },
  {
   "cell_type": "markdown",
   "metadata": {},
   "source": [
    "### 10. 인덱싱"
   ]
  },
  {
   "cell_type": "code",
   "execution_count": 12,
   "metadata": {},
   "outputs": [
    {
     "name": "stdout",
     "output_type": "stream",
     "text": [
      "ex_nine: \n",
      "[[  5  14  23]\n",
      " [ 14  50  86]\n",
      " [ 23  86 149]]\n",
      "\n",
      "a_11 = 5\n",
      "a_21 = 14\n",
      "a_13 = 23\n"
     ]
    }
   ],
   "source": [
    "print(f'ex_nine: \\n{ex_nine}\\n')\n",
    "print(f'a_11 = {ex_nine[0, 0]}')  # 1행 1열 원소\n",
    "print(f'a_21 = {ex_nine[1, 0]}')  # 2행 1열 원소\n",
    "print(f'a_13 = {ex_nine[0, 2]}')  # 1행 3열 원소"
   ]
  },
  {
   "cell_type": "markdown",
   "metadata": {},
   "source": [
    "### 11. 행렬 슬라이싱"
   ]
  },
  {
   "cell_type": "code",
   "execution_count": 13,
   "metadata": {},
   "outputs": [
    {
     "name": "stdout",
     "output_type": "stream",
     "text": [
      "ex_nine: \n",
      "[[  5  14  23]\n",
      " [ 14  50  86]\n",
      " [ 23  86 149]]\n",
      "ex_nine[0:2, 0:2] \n",
      " [[ 5 14]\n",
      " [14 50]]\n",
      "ex_nine[1:3, 0:3] \n",
      " [[ 14  50  86]\n",
      " [ 23  86 149]]\n",
      "ex_nine[1:3, :] \n",
      " [[ 14  50  86]\n",
      " [ 23  86 149]]\n",
      "ex_nine[:, :] \n",
      " [[  5  14  23]\n",
      " [ 14  50  86]\n",
      " [ 23  86 149]]\n",
      "ex_nine[:2, 1:] \n",
      " [[14 23]\n",
      " [50 86]]\n",
      "ex_nine[:2, 0] \n",
      " [ 5 14]\n"
     ]
    }
   ],
   "source": [
    "print(f'ex_nine: \\n{ex_nine}')\n",
    "print('ex_nine[0:2, 0:2] \\n', ex_nine[0:2, 0:2])\n",
    "print('ex_nine[1:3, 0:3] \\n', ex_nine[1:3, 0:3])\n",
    "print('ex_nine[1:3, :] \\n', ex_nine[1:3, :])\n",
    "print('ex_nine[:, :] \\n', ex_nine[:, :])\n",
    "print('ex_nine[:2, 1:] \\n', ex_nine[:2, 1:])\n",
    "print('ex_nine[:2, 0] \\n', ex_nine[:2, 0])"
   ]
  },
  {
   "cell_type": "markdown",
   "metadata": {},
   "source": [
    "### 12. 행렬을 벡터로 변환 (Vectorization)\n",
    "\n",
    "$$\n",
    "A=\n",
    "\\begin{bmatrix}\n",
    "0.42 & 0.72 & 0.00\\\\\n",
    "0.3 & 0.15 & 0.09\\\\\n",
    "0.19 & 0.35 & 0.4\n",
    "\\end{bmatrix}\n",
    "\\longrightarrow\n",
    "vec(A)=\n",
    "\\begin{bmatrix}\n",
    "0.42 & 0.72 & 0.00 & 0.3 & 0.15 & 0.09 &0.19 & 0.35 & 0.4\n",
    "\\end{bmatrix}\n",
    "$$"
   ]
  },
  {
   "cell_type": "code",
   "execution_count": 14,
   "metadata": {},
   "outputs": [
    {
     "name": "stdout",
     "output_type": "stream",
     "text": [
      "ex_six = \n",
      "[[0.42 0.72 0.  ]\n",
      " [0.3  0.15 0.09]\n",
      " [0.19 0.35 0.4 ]]\n",
      "vec(ex_six) = [0.42 0.72 0.   0.3  0.15 0.09 0.19 0.35 0.4 ]\n"
     ]
    }
   ],
   "source": [
    "print(f'ex_six = \\n{ex_six}')\n",
    "ex_twelve = ex_six.flatten()\n",
    "print(f'vec(ex_six) = {ex_twelve}')"
   ]
  },
  {
   "cell_type": "markdown",
   "metadata": {},
   "source": [
    "### 13. 정렬"
   ]
  },
  {
   "cell_type": "code",
   "execution_count": 16,
   "metadata": {},
   "outputs": [
    {
     "name": "stdout",
     "output_type": "stream",
     "text": [
      "ex_twelve = [0.42 0.72 0.   0.3  0.15 0.09 0.19 0.35 0.4 ]\n",
      "오름차순 정렬:\n",
      "ex_thirteen_asc = [0.   0.09 0.15 0.19 0.3  0.35 0.4  0.42 0.72]\n",
      "내림차순 정렬:\n",
      "ex_thirteen_desc = [0.72 0.42 0.4  0.35 0.3  0.19 0.15 0.09 0.  ]\n"
     ]
    }
   ],
   "source": [
    "print(f'ex_twelve = {ex_twelve}')\n",
    "print('오름차순 정렬:')\n",
    "ex_thirteen_asc = np.sort(ex_twelve)\n",
    "print(f'ex_thirteen_asc = {ex_thirteen_asc}')\n",
    "print('내림차순 정렬:')\n",
    "ex_thirteen_desc = np.sort(ex_twelve)[::-1]\n",
    "print(f'ex_thirteen_desc = {ex_thirteen_desc}')"
   ]
  }
 ],
 "metadata": {
  "interpreter": {
   "hash": "8a5bde8bbf9a2b3725af747418110978d9793cb7aac6c4d7c0e6862aec364817"
  },
  "kernelspec": {
   "display_name": "Python 3.9.1 64-bit ('notebook': venv)",
   "name": "python3"
  },
  "language_info": {
   "codemirror_mode": {
    "name": "ipython",
    "version": 3
   },
   "file_extension": ".py",
   "mimetype": "text/x-python",
   "name": "python",
   "nbconvert_exporter": "python",
   "pygments_lexer": "ipython3",
   "version": "3.9.1"
  },
  "orig_nbformat": 4
 },
 "nbformat": 4,
 "nbformat_minor": 2
}
