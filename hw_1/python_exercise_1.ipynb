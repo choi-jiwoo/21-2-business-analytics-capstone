{
 "cells": [
  {
   "cell_type": "markdown",
   "id": "municipal-teaching",
   "metadata": {},
   "source": [
    "## 1. CSS Selector 수정"
   ]
  },
  {
   "cell_type": "code",
   "execution_count": 3,
   "id": "annoying-dealing",
   "metadata": {},
   "outputs": [],
   "source": [
    "selector = \"#today_main_news > div.hdline_news > ul > li:nth-child(1)\""
   ]
  },
  {
   "cell_type": "code",
   "execution_count": 62,
   "id": "suburban-thumb",
   "metadata": {},
   "outputs": [
    {
     "data": {
      "text/plain": [
       "'#today_main_news  >  div.hdline_news  >  ul  >  li'"
      ]
     },
     "execution_count": 62,
     "metadata": {},
     "output_type": "execute_result"
    }
   ],
   "source": [
    "#selector.split(':')[0]\n",
    "\n",
    "# > 기호를 기준으로 문자열을 나눔\n",
    "selector_list = selector.split(\">\")\n",
    "\n",
    "# selector_list의 마지막 원소 문자열을 다시 : 기호를 기준으로 나누어주고\n",
    "# 첫번째 원소 'li'만 selector_list의 마지막 원소에 할당해줌\n",
    "selector_list[-1] = selector_list[-1].split(\":\")[0]\n",
    "\n",
    "# selector들을 ' > '로 하나의 문자열로 묶어줌\n",
    "\" > \".join(selector_list)"
   ]
  },
  {
   "cell_type": "markdown",
   "id": "periodic-perth",
   "metadata": {},
   "source": [
    "## 2. list comprehension으로 만드는 구구단"
   ]
  },
  {
   "cell_type": "code",
   "execution_count": 10,
   "id": "integral-level",
   "metadata": {},
   "outputs": [],
   "source": [
    "def gugu_com(x=2):\n",
    "    # argument로 넘겨받은 수와 1~9 까지 곱한것을 출력\n",
    "    # argument가 비어있으면 기본값으로 2를 전달\n",
    "    [print(f'{x} x {i} = {x*i}') for i in range(1, 10)]"
   ]
  },
  {
   "cell_type": "code",
   "execution_count": 14,
   "id": "russian-partition",
   "metadata": {
    "scrolled": true
   },
   "outputs": [
    {
     "name": "stdout",
     "output_type": "stream",
     "text": [
      "7 x 1 = 7\n",
      "7 x 2 = 14\n",
      "7 x 3 = 21\n",
      "7 x 4 = 28\n",
      "7 x 5 = 35\n",
      "7 x 6 = 42\n",
      "7 x 7 = 49\n",
      "7 x 8 = 56\n",
      "7 x 9 = 63\n"
     ]
    }
   ],
   "source": [
    "gugu_com(7)"
   ]
  },
  {
   "cell_type": "markdown",
   "id": "signal-baking",
   "metadata": {},
   "source": [
    "## 3. 두 주사위의 곱"
   ]
  },
  {
   "cell_type": "code",
   "execution_count": 15,
   "id": "immune-generation",
   "metadata": {},
   "outputs": [],
   "source": [
    "die = [i for i in range(1, 7)]"
   ]
  },
  {
   "cell_type": "code",
   "execution_count": 16,
   "id": "qualified-baker",
   "metadata": {
    "scrolled": true
   },
   "outputs": [
    {
     "data": {
      "text/plain": [
       "[[1, 2, 3, 4, 5, 6],\n",
       " [2, 4, 6, 8, 10, 12],\n",
       " [3, 6, 9, 12, 15, 18],\n",
       " [4, 8, 12, 16, 20, 24],\n",
       " [5, 10, 15, 20, 25, 30],\n",
       " [6, 12, 18, 24, 30, 36]]"
      ]
     },
     "execution_count": 16,
     "metadata": {},
     "output_type": "execute_result"
    }
   ],
   "source": [
    "# 중첩 for loop을 list comprehension으로 구현\n",
    "[[j*i for i in die] for j in die] "
   ]
  },
  {
   "cell_type": "markdown",
   "id": "compressed-distribution",
   "metadata": {},
   "source": [
    "## 4. 두 주사위의 합"
   ]
  },
  {
   "cell_type": "code",
   "execution_count": 20,
   "id": "moved-policy",
   "metadata": {},
   "outputs": [],
   "source": [
    "dice_matrix = [[j+i for i in die] for j in die] "
   ]
  },
  {
   "cell_type": "code",
   "execution_count": 21,
   "id": "streaming-polymer",
   "metadata": {},
   "outputs": [
    {
     "name": "stdout",
     "output_type": "stream",
     "text": [
      "8\n",
      "8\n"
     ]
    }
   ],
   "source": [
    "print(dice_matrix[5][1])\n",
    "print(dice_matrix[1][5])"
   ]
  },
  {
   "cell_type": "markdown",
   "id": "final-reply",
   "metadata": {},
   "source": [
    "## 도전문제"
   ]
  },
  {
   "cell_type": "code",
   "execution_count": 22,
   "id": "crazy-elizabeth",
   "metadata": {},
   "outputs": [],
   "source": [
    "from collections import defaultdict, Counter\n",
    "\n",
    "text = \"\"\"Python is a very simple programming language so even if you are new to programming, you can learn python without facing any issues.\"\"\"\n",
    "\n",
    "text2 = \"\"\"C is a very difficult programming language so even if you are good at programming, you can learn c with facing any issues.\"\"\"\n",
    "\n",
    "text3 = \"\"\"R Programming is good at statistical analysis. you can learn easily\"\"\""
   ]
  },
  {
   "cell_type": "markdown",
   "id": "willing-canadian",
   "metadata": {},
   "source": [
    "### 문제 1"
   ]
  },
  {
   "cell_type": "code",
   "execution_count": 24,
   "id": "cutting-cement",
   "metadata": {},
   "outputs": [],
   "source": [
    "import re"
   ]
  },
  {
   "cell_type": "code",
   "execution_count": 33,
   "id": "according-member",
   "metadata": {},
   "outputs": [],
   "source": [
    "def remove_punctuation(text):\n",
    "    \"\"\"구두점 제거\"\"\"\n",
    "    return re.sub(r'[^a-zA-Z]', ' ', text)"
   ]
  },
  {
   "cell_type": "code",
   "execution_count": 57,
   "id": "silent-athletics",
   "metadata": {},
   "outputs": [],
   "source": [
    "def count_word(text):\n",
    "    word_freq = defaultdict(int)\n",
    "    text = remove_punctuation(text)\n",
    "    words = text.lower().split()\n",
    "    #word_freq = Counter(words)\n",
    "\n",
    "    # words를 차례대로 순회하면서 각 원소들을 key값으로 하고 발견될 때 마다 value값을 1씩 증가\n",
    "    for i in words:\n",
    "        word_freq[i] += 1\n",
    "        \n",
    "    return word_freq"
   ]
  },
  {
   "cell_type": "code",
   "execution_count": 58,
   "id": "thousand-level",
   "metadata": {
    "scrolled": true
   },
   "outputs": [
    {
     "data": {
      "text/plain": [
       "defaultdict(int,\n",
       "            {'python': 2,\n",
       "             'is': 1,\n",
       "             'a': 1,\n",
       "             'very': 1,\n",
       "             'simple': 1,\n",
       "             'programming': 2,\n",
       "             'language': 1,\n",
       "             'so': 1,\n",
       "             'even': 1,\n",
       "             'if': 1,\n",
       "             'you': 2,\n",
       "             'are': 1,\n",
       "             'new': 1,\n",
       "             'to': 1,\n",
       "             'can': 1,\n",
       "             'learn': 1,\n",
       "             'without': 1,\n",
       "             'facing': 1,\n",
       "             'any': 1,\n",
       "             'issues': 1})"
      ]
     },
     "execution_count": 58,
     "metadata": {},
     "output_type": "execute_result"
    }
   ],
   "source": [
    "count_word(text)"
   ]
  },
  {
   "cell_type": "markdown",
   "id": "digital-vulnerability",
   "metadata": {},
   "source": [
    "### 문제 2"
   ]
  },
  {
   "cell_type": "code",
   "execution_count": 69,
   "id": "hidden-country",
   "metadata": {},
   "outputs": [],
   "source": [
    "def validate_plagiarism(word_freq_text_a, word_freq_text_b):\n",
    "    word_freq_text_a = Counter(word_freq_text_a)\n",
    "    word_freq_text_b = Counter(word_freq_text_b)\n",
    "    \n",
    "    total_words = sum(word_freq_text_a.values())  # ∑ Counter(A)\n",
    "    word_diff = sum((word_freq_text_a - word_freq_text_b).values())  # ∑ Counter(A) - Counter(B)\n",
    "    similarity = (1 - word_diff / total_words) * 100\n",
    "\n",
    "    return similarity"
   ]
  },
  {
   "cell_type": "code",
   "execution_count": 65,
   "id": "respected-officer",
   "metadata": {},
   "outputs": [],
   "source": [
    "word_freq_text_1 = count_word(text)\n",
    "word_freq_text_2 = count_word(text2)\n",
    "word_freq_text_3 = count_word(text3)"
   ]
  },
  {
   "cell_type": "code",
   "execution_count": 70,
   "id": "qualified-offense",
   "metadata": {},
   "outputs": [],
   "source": [
    "text_text2_similarity = validate_plagiarism(word_freq_text_1, word_freq_text_2)\n",
    "text_text3_similarity = validate_plagiarism(word_freq_text_1, word_freq_text_3)"
   ]
  },
  {
   "cell_type": "code",
   "execution_count": 71,
   "id": "challenging-speaker",
   "metadata": {},
   "outputs": [
    {
     "data": {
      "text/plain": [
       "73.91304347826086"
      ]
     },
     "execution_count": 71,
     "metadata": {},
     "output_type": "execute_result"
    }
   ],
   "source": [
    "text_text2_similarity"
   ]
  },
  {
   "cell_type": "code",
   "execution_count": 72,
   "id": "systematic-palestinian",
   "metadata": {},
   "outputs": [
    {
     "data": {
      "text/plain": [
       "21.739130434782606"
      ]
     },
     "execution_count": 72,
     "metadata": {},
     "output_type": "execute_result"
    }
   ],
   "source": [
    "text_text3_similarity"
   ]
  }
 ],
 "metadata": {
  "kernelspec": {
   "display_name": "Python 3",
   "language": "python",
   "name": "python3"
  },
  "language_info": {
   "codemirror_mode": {
    "name": "ipython",
    "version": 3
   },
   "file_extension": ".py",
   "mimetype": "text/x-python",
   "name": "python",
   "nbconvert_exporter": "python",
   "pygments_lexer": "ipython3",
   "version": "3.8.5"
  }
 },
 "nbformat": 4,
 "nbformat_minor": 5
}
