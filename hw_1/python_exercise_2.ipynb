{
 "cells": [
  {
   "cell_type": "markdown",
   "id": "attempted-disposal",
   "metadata": {},
   "source": [
    "## 1. 람다함수"
   ]
  },
  {
   "cell_type": "markdown",
   "id": "interpreted-flight",
   "metadata": {},
   "source": [
    "### 1.1 기존 함수"
   ]
  },
  {
   "cell_type": "code",
   "execution_count": 1,
   "id": "amateur-samoa",
   "metadata": {},
   "outputs": [
    {
     "name": "stdout",
     "output_type": "stream",
     "text": [
      "5\n"
     ]
    }
   ],
   "source": [
    "def f(x, y):\n",
    "    return x + y\n",
    "\n",
    "print(f(1, 4))"
   ]
  },
  {
   "cell_type": "markdown",
   "id": "chicken-chamber",
   "metadata": {},
   "source": [
    "### 1.2 lambda 함수"
   ]
  },
  {
   "cell_type": "code",
   "execution_count": 2,
   "id": "pediatric-vermont",
   "metadata": {},
   "outputs": [
    {
     "name": "stdout",
     "output_type": "stream",
     "text": [
      "5\n"
     ]
    }
   ],
   "source": [
    "f = lambda x, y: x + y\n",
    "print(f(1, 4))"
   ]
  },
  {
   "cell_type": "markdown",
   "id": "likely-retrieval",
   "metadata": {},
   "source": [
    "### 1.3 익명의 lambda 함수"
   ]
  },
  {
   "cell_type": "code",
   "execution_count": 3,
   "id": "sweet-parade",
   "metadata": {},
   "outputs": [
    {
     "name": "stdout",
     "output_type": "stream",
     "text": [
      "5\n"
     ]
    }
   ],
   "source": [
    "print((lambda x, y: x + y)(1, 4))"
   ]
  },
  {
   "cell_type": "markdown",
   "id": "endless-sodium",
   "metadata": {},
   "source": [
    "## 2. 맵리듀스"
   ]
  },
  {
   "cell_type": "markdown",
   "id": "neutral-encounter",
   "metadata": {},
   "source": [
    "### 2.1 map 함수"
   ]
  },
  {
   "cell_type": "code",
   "execution_count": 4,
   "id": "greater-customs",
   "metadata": {},
   "outputs": [
    {
     "name": "stdout",
     "output_type": "stream",
     "text": [
      "[1, 4, 9, 16, 25]\n",
      "[1, 4, 9, 16, 25]\n"
     ]
    }
   ],
   "source": [
    "ex = [1, 2, 3, 4, 5]\n",
    "f = lambda x: x**2\n",
    "print(list(map(lambda x: x**2, ex)))\n",
    "print(list(map(f, ex)))"
   ]
  },
  {
   "cell_type": "code",
   "execution_count": 5,
   "id": "innocent-ranking",
   "metadata": {
    "scrolled": true
   },
   "outputs": [
    {
     "name": "stdout",
     "output_type": "stream",
     "text": [
      "1\n",
      "4\n",
      "9\n",
      "16\n",
      "25\n"
     ]
    }
   ],
   "source": [
    "for value in map(f, ex):\n",
    "    print(value)"
   ]
  },
  {
   "cell_type": "code",
   "execution_count": 7,
   "id": "signal-greek",
   "metadata": {},
   "outputs": [
    {
     "data": {
      "text/plain": [
       "[1, 4, 9, 16, 25]"
      ]
     },
     "execution_count": 7,
     "metadata": {},
     "output_type": "execute_result"
    }
   ],
   "source": [
    "[x**2 for x in ex]"
   ]
  },
  {
   "cell_type": "code",
   "execution_count": 21,
   "id": "satisfactory-zoning",
   "metadata": {},
   "outputs": [
    {
     "data": {
      "text/plain": [
       "[2, 4, 6, 8, 10]"
      ]
     },
     "execution_count": 21,
     "metadata": {},
     "output_type": "execute_result"
    }
   ],
   "source": [
    "list(map(lambda x, y: x + y, ex, ex))"
   ]
  },
  {
   "cell_type": "code",
   "execution_count": 22,
   "id": "sixth-fight",
   "metadata": {},
   "outputs": [
    {
     "data": {
      "text/plain": [
       "[2, 4, 6, 8, 10]"
      ]
     },
     "execution_count": 22,
     "metadata": {},
     "output_type": "execute_result"
    }
   ],
   "source": [
    "[x+y for x, y in zip(ex, ex)]"
   ]
  },
  {
   "cell_type": "code",
   "execution_count": 19,
   "id": "knowing-pittsburgh",
   "metadata": {},
   "outputs": [
    {
     "name": "stdout",
     "output_type": "stream",
     "text": [
      "759 ns ± 72.8 ns per loop (mean ± std. dev. of 7 runs, 1000000 loops each)\n"
     ]
    }
   ],
   "source": [
    "%timeit list(map(lambda x, y: x + y, ex, ex))"
   ]
  },
  {
   "cell_type": "code",
   "execution_count": 20,
   "id": "featured-notification",
   "metadata": {
    "scrolled": true
   },
   "outputs": [
    {
     "name": "stdout",
     "output_type": "stream",
     "text": [
      "575 ns ± 4.55 ns per loop (mean ± std. dev. of 7 runs, 1000000 loops each)\n"
     ]
    }
   ],
   "source": [
    "%timeit [x+y for x, y in zip(ex, ex)]"
   ]
  },
  {
   "cell_type": "markdown",
   "id": "subjective-farming",
   "metadata": {},
   "source": [
    "### 2.2 reduce 함수"
   ]
  },
  {
   "cell_type": "code",
   "execution_count": 23,
   "id": "republican-phone",
   "metadata": {},
   "outputs": [],
   "source": [
    "from functools import reduce"
   ]
  },
  {
   "cell_type": "code",
   "execution_count": 28,
   "id": "nutritional-reform",
   "metadata": {},
   "outputs": [
    {
     "data": {
      "text/plain": [
       "15"
      ]
     },
     "execution_count": 28,
     "metadata": {},
     "output_type": "execute_result"
    }
   ],
   "source": [
    "reduce(lambda x, y: x + y, [1, 2, 3, 4, 5])"
   ]
  },
  {
   "cell_type": "code",
   "execution_count": 25,
   "id": "ready-location",
   "metadata": {
    "scrolled": true
   },
   "outputs": [
    {
     "data": {
      "text/plain": [
       "15"
      ]
     },
     "execution_count": 25,
     "metadata": {},
     "output_type": "execute_result"
    }
   ],
   "source": [
    "x = 0\n",
    "for y in ex:\n",
    "    x += y\n",
    "x"
   ]
  },
  {
   "cell_type": "markdown",
   "id": "precise-vanilla",
   "metadata": {},
   "source": [
    "## 3. 별표의 활용"
   ]
  },
  {
   "cell_type": "markdown",
   "id": "planned-connectivity",
   "metadata": {},
   "source": [
    "### 3.1 가변 인수로 활용"
   ]
  },
  {
   "cell_type": "code",
   "execution_count": 27,
   "id": "technological-toner",
   "metadata": {},
   "outputs": [
    {
     "name": "stdout",
     "output_type": "stream",
     "text": [
      "1 (2, 3, 4, 5, 6)\n",
      "<class 'tuple'>\n"
     ]
    }
   ],
   "source": [
    "def test_asterisk(a, *args):  # a에 할당되는 값 외에 argument로 전달된 값들은 모두 튜플로 묶임\n",
    "    print(a, args)\n",
    "    print(type(args))  # args의 데이터 타입 반환\n",
    "\n",
    "test_asterisk(1, 2, 3, 4, 5, 6)"
   ]
  },
  {
   "cell_type": "code",
   "execution_count": 29,
   "id": "annual-palace",
   "metadata": {},
   "outputs": [
    {
     "name": "stdout",
     "output_type": "stream",
     "text": [
      "1 {'b': 2, 'c': 3, 'd': 4, 'e': 5, 'f': 6}\n",
      "<class 'dict'>\n"
     ]
    }
   ],
   "source": [
    "def asterisk_test(a, **kargs):  # a에 할당되는 값 외에 argument로 전달된 값들은 모두 딕셔너리로 묶임\n",
    "    print(a,kargs)\n",
    "    print(type(kargs))  # kargs의 데이터 타입 반환\n",
    "    \n",
    "asterisk_test(1, b=2, c=3, d=4, e=5, f=6)"
   ]
  },
  {
   "cell_type": "markdown",
   "id": "nutritional-constitution",
   "metadata": {},
   "source": [
    "### 3.2 별표의 언패킹 기능"
   ]
  },
  {
   "cell_type": "code",
   "execution_count": 34,
   "id": "binary-andorra",
   "metadata": {},
   "outputs": [
    {
     "name": "stdout",
     "output_type": "stream",
     "text": [
      "1 2 3 4 5 6\n",
      "<class 'tuple'>\n"
     ]
    }
   ],
   "source": [
    "def test_asterisk_unpack(a, args):\n",
    "    print(a, *args)  # tuple unpacking. argument로 전달된 튜플이나 리스트를 앞에 *를 붙여 해제\n",
    "    print(type(args))\n",
    "    \n",
    "test_asterisk_unpack(1, (2, 3, 4, 5, 6))"
   ]
  },
  {
   "cell_type": "code",
   "execution_count": 35,
   "id": "nervous-cleveland",
   "metadata": {},
   "outputs": [
    {
     "name": "stdout",
     "output_type": "stream",
     "text": [
      "1 (2, 3, 4, 5, 6)\n",
      "<class 'tuple'>\n"
     ]
    }
   ],
   "source": [
    "def test_asterisk_unpack(a, args):\n",
    "    print(a, args)  # *를 안붙이면 그냥 튜플\n",
    "    print(type(args))\n",
    "    \n",
    "test_asterisk_unpack(1, (2, 3, 4, 5, 6))"
   ]
  },
  {
   "cell_type": "code",
   "execution_count": 36,
   "id": "logical-southwest",
   "metadata": {},
   "outputs": [
    {
     "name": "stdout",
     "output_type": "stream",
     "text": [
      "[1, 2] [3, 4] [5, 6]\n",
      "[1, 2] [3, 4] [5, 6]\n"
     ]
    }
   ],
   "source": [
    "a, b, c= ([1, 2], [3, 4], [5, 6])\n",
    "print(a, b, c)\n",
    "data = ([1, 2], [3, 4], [5, 6])\n",
    "print(*data)"
   ]
  },
  {
   "cell_type": "code",
   "execution_count": 37,
   "id": "powered-globe",
   "metadata": {
    "scrolled": true
   },
   "outputs": [
    {
     "name": "stdout",
     "output_type": "stream",
     "text": [
      "(1, 3, 5)\n",
      "<class 'tuple'>\n",
      "(2, 4, 6)\n",
      "<class 'tuple'>\n"
     ]
    }
   ],
   "source": [
    "for data in zip(*[[1 ,2],[3, 4],[5, 6]]):  # 리스트도 unpacking 가능\n",
    "    print(data)\n",
    "    print(type(data))"
   ]
  },
  {
   "cell_type": "code",
   "execution_count": 38,
   "id": "crucial-cambridge",
   "metadata": {
    "scrolled": true
   },
   "outputs": [
    {
     "name": "stdout",
     "output_type": "stream",
     "text": [
      "10 1 2 3\n"
     ]
    }
   ],
   "source": [
    "def test_asterisk_kwargs(a, b, c, d):\n",
    "    print(a, b, c, d)\n",
    "    \n",
    "data = {\n",
    "    'b': 1,\n",
    "    'c': 2,\n",
    "    'd': 3,\n",
    "}\n",
    "test_asterisk_kwargs(10, **data)"
   ]
  },
  {
   "cell_type": "markdown",
   "id": "radio-choir",
   "metadata": {},
   "source": [
    "## 4. 선형대수학"
   ]
  },
  {
   "cell_type": "markdown",
   "id": "illegal-congress",
   "metadata": {},
   "source": [
    "### 4.1 파이썬 스타일 코드로 표현한 벡터"
   ]
  },
  {
   "cell_type": "code",
   "execution_count": 39,
   "id": "improving-python",
   "metadata": {},
   "outputs": [],
   "source": [
    "vector_list = [1, 2, 10]\n",
    "vector_tuple = (1, 2, 10)\n",
    "vector_dict = {\n",
    "    'x': 1,\n",
    "    'y': 2,\n",
    "    'z': 10,\n",
    "}"
   ]
  },
  {
   "cell_type": "code",
   "execution_count": 40,
   "id": "attractive-eleven",
   "metadata": {},
   "outputs": [
    {
     "name": "stdout",
     "output_type": "stream",
     "text": [
      "[7, 10]\n"
     ]
    }
   ],
   "source": [
    "u = [2, 2]\n",
    "v = [2, 3]\n",
    "z = [3, 5]\n",
    "result = []\n",
    "\n",
    "for i in range(len(u)):\n",
    "    result.append(u[i] + v[i] + z[i])\n",
    "\n",
    "# 2+2+3=7\n",
    "# 2+3+5=10\n",
    "print(result)"
   ]
  },
  {
   "cell_type": "code",
   "execution_count": 41,
   "id": "desirable-engineer",
   "metadata": {},
   "outputs": [
    {
     "name": "stdout",
     "output_type": "stream",
     "text": [
      "[7, 10]\n"
     ]
    }
   ],
   "source": [
    "u = [2, 2]\n",
    "v = [2, 3]\n",
    "z = [3, 5]\n",
    "result = [sum(t) for t in zip(u, v, z)]\n",
    "print(result)"
   ]
  },
  {
   "cell_type": "code",
   "execution_count": 42,
   "id": "nominated-cyprus",
   "metadata": {},
   "outputs": [
    {
     "data": {
      "text/plain": [
       "[7, 10]"
      ]
     },
     "execution_count": 42,
     "metadata": {},
     "output_type": "execute_result"
    }
   ],
   "source": [
    "def add_vector(*args):\n",
    "    return [sum(t) for t in zip(*args)]\n",
    "\n",
    "add_vector(u, v, z)"
   ]
  },
  {
   "cell_type": "code",
   "execution_count": 43,
   "id": "aboriginal-refrigerator",
   "metadata": {},
   "outputs": [
    {
     "data": {
      "text/plain": [
       "[3, 3]"
      ]
     },
     "execution_count": 43,
     "metadata": {},
     "output_type": "execute_result"
    }
   ],
   "source": [
    "v = [1, 1]\n",
    "u = [2, 2]\n",
    "\n",
    "[x + y for x, y in zip(u, v)]  # 1+2=3, 1+2=3"
   ]
  },
  {
   "cell_type": "code",
   "execution_count": 45,
   "id": "available-immune",
   "metadata": {},
   "outputs": [
    {
     "data": {
      "text/plain": [
       "[10, 12, 14]"
      ]
     },
     "execution_count": 45,
     "metadata": {},
     "output_type": "execute_result"
    }
   ],
   "source": [
    "u = [1, 2, 3]\n",
    "v = [4, 4, 4]\n",
    "alpha = 2\n",
    "\n",
    "# (1+4)*2=10\n",
    "# (2+4)*2=12\n",
    "# (3+4)*2=14\n",
    "result = [alpha * sum(t) for t in zip(u, v)]\n",
    "result"
   ]
  },
  {
   "cell_type": "markdown",
   "id": "literary-prevention",
   "metadata": {},
   "source": [
    "### 4.2 파이썬 스타일 코드로 표현한 행렬"
   ]
  },
  {
   "cell_type": "code",
   "execution_count": 46,
   "id": "returning-tourism",
   "metadata": {},
   "outputs": [],
   "source": [
    "matrix_list = [\n",
    "    [3, 6],\n",
    "    [4, 5],\n",
    "]\n",
    "matrix_tuple = [\n",
    "    (3, 6),\n",
    "    (4, 5),\n",
    "]\n",
    "matrix_dict = {\n",
    "    (0, 0): 3,  # a11\n",
    "    (0, 1): 6,  # a12\n",
    "    (1, 0): 4,  # a21\n",
    "    (1, 1): 5,  # a22\n",
    "}"
   ]
  },
  {
   "cell_type": "code",
   "execution_count": 47,
   "id": "fancy-offering",
   "metadata": {},
   "outputs": [
    {
     "name": "stdout",
     "output_type": "stream",
     "text": [
      "[[8, 14], [10, 12]]\n"
     ]
    }
   ],
   "source": [
    "matrix_a = [\n",
    "    [3, 6],\n",
    "    [4, 5],\n",
    "]\n",
    "matrix_b = [\n",
    "    [5, 8],\n",
    "    [6, 7],\n",
    "]\n",
    "\n",
    "# 행렬의 합 -> 행마다 동일한 열에 있는 원소들끼리 더해줌\n",
    "result = [[sum(row) for row in zip(*t)] for t in zip(matrix_a, matrix_b)]\n",
    "print(result)"
   ]
  },
  {
   "cell_type": "markdown",
   "id": "liable-tension",
   "metadata": {},
   "source": [
    "## 일반문제"
   ]
  },
  {
   "cell_type": "markdown",
   "id": "preceding-overview",
   "metadata": {},
   "source": [
    "### 주민등록번호로 성별 찾기 with map"
   ]
  },
  {
   "cell_type": "code",
   "execution_count": 48,
   "id": "provincial-scene",
   "metadata": {},
   "outputs": [],
   "source": [
    "pins = [\"891120-1234567\", \"931120-2335567\", \"911120-1234234\", \"951120-1234567\"]"
   ]
  },
  {
   "cell_type": "code",
   "execution_count": 58,
   "id": "excessive-printing",
   "metadata": {},
   "outputs": [
    {
     "data": {
      "text/plain": [
       "['1', '2', '1', '1']"
      ]
     },
     "execution_count": 58,
     "metadata": {},
     "output_type": "execute_result"
    }
   ],
   "source": [
    "# - 기호를 기준으로 분할한 리스트에 마지막 원소의 첫글자만 추출해서 리스트로 묶어줌\n",
    "# python에서 문자열(string)은 iterable이기 때문에 리스트처럼 다룰 수 있지만 불변객체(immutable)이기 때문에 값을 바꿀 순 없음.\n",
    "list(map(lambda x: x.split(\"-\")[1][0], pins))"
   ]
  },
  {
   "cell_type": "code",
   "execution_count": 56,
   "id": "comprehensive-ordinance",
   "metadata": {
    "scrolled": true
   },
   "outputs": [
    {
     "data": {
      "text/plain": [
       "['Male', 'Female', 'Male', 'Male']"
      ]
     },
     "execution_count": 56,
     "metadata": {},
     "output_type": "execute_result"
    }
   ],
   "source": [
    "# 숫자와 성별을 매핑\n",
    "gender = {\n",
    "    '1': 'Male',\n",
    "    '2': 'Female'\n",
    "}\n",
    "# split으로 도출된 숫자에 해당하는 성별로 치환\n",
    "list(map(lambda x: gender[x.split(\"-\")[1][0]], pins))"
   ]
  },
  {
   "cell_type": "markdown",
   "id": "brazilian-prince",
   "metadata": {},
   "source": [
    "## 도전문제"
   ]
  },
  {
   "cell_type": "code",
   "execution_count": 66,
   "id": "speaking-clause",
   "metadata": {},
   "outputs": [
    {
     "data": {
      "text/plain": [
       "11"
      ]
     },
     "execution_count": 66,
     "metadata": {},
     "output_type": "execute_result"
    }
   ],
   "source": [
    "a = [1, 2]\n",
    "b = [3, 4]\n",
    "\n",
    "# dot = lambda a,b : sum([x*y for x, y in zip(a, b)])\n",
    "# 위와 같은 방식은 pep8에서 권장하고 있지 않아서 아래와 같은 방식을 사용\n",
    "# 참고 : https://www.python.org/dev/peps/pep-0008/#programming-recommendations\n",
    "# pep8이란 : https://tomining.tistory.com/139\n",
    "\n",
    "def dot(a, b):\n",
    "    return [x * y for x, y in zip(a, b)]\n",
    "\n",
    "sum(dot(a, b))"
   ]
  }
 ],
 "metadata": {
  "kernelspec": {
   "display_name": "Python 3",
   "language": "python",
   "name": "python3"
  },
  "language_info": {
   "codemirror_mode": {
    "name": "ipython",
    "version": 3
   },
   "file_extension": ".py",
   "mimetype": "text/x-python",
   "name": "python",
   "nbconvert_exporter": "python",
   "pygments_lexer": "ipython3",
   "version": "3.8.5"
  }
 },
 "nbformat": 4,
 "nbformat_minor": 5
}
